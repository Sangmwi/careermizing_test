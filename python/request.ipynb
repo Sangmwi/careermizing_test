{
 "cells": [
  {
   "cell_type": "code",
   "execution_count": null,
   "metadata": {},
   "outputs": [],
   "source": [
    "import requests\n",
    "import json\n",
    "import pandas as pd"
   ]
  },
  {
   "cell_type": "markdown",
   "metadata": {},
   "source": [
    "## 검사결과"
   ]
  },
  {
   "cell_type": "code",
   "execution_count": 74,
   "metadata": {},
   "outputs": [],
   "source": [
    "url = \"http://www.career.go.kr/inspct/openapi/test/report\"\n",
    "apikey = \"931fe66b40ede365f1ab6e79ee1b8ba8\""
   ]
  },
  {
   "cell_type": "code",
   "execution_count": 123,
   "metadata": {},
   "outputs": [
    {
     "data": {
      "text/plain": [
       "'https://www.career.go.kr/inspct/web/psycho/vocation/report?seq=Njg3NzEwMzM'"
      ]
     },
     "execution_count": 123,
     "metadata": {},
     "output_type": "execute_result"
    }
   ],
   "source": [
    "url = \"http://www.career.go.kr/inspct/openapi/test/report\"\n",
    "careernet_apikey = \"931fe66b40ede365f1ab6e79ee1b8ba8\"\n",
    "\n",
    "data = {\n",
    "    \"apikey\": careernet_apikey,  \n",
    "    \"qestrnSeq\": \"21\",  \n",
    "    \"trgetSe\": \"100207\",  \n",
    "    \"name\": user_name,  \n",
    "    \"gender\": user_sex,  \n",
    "    \"school\": user_school,  \n",
    "    \"grade\": user_grade,  \n",
    "    \"email\": user_email,  \n",
    "    \"startDtm\": 1550466299034,  \n",
    "    \"answers\": response_text\n",
    "}\n",
    "\n",
    "response = requests.post(url, json=data)\n",
    "result = json.loads(response.text)\n",
    "result_url = result['RESULT']['url']\n",
    "result_url"
   ]
  },
  {
   "cell_type": "markdown",
   "metadata": {},
   "source": [
    "## 검사질문 88개 불러오기 저장하기 JSON으로\n"
   ]
  },
  {
   "cell_type": "code",
   "execution_count": null,
   "metadata": {},
   "outputs": [],
   "source": [
    "questions = requests.get(\"https://www.career.go.kr/inspct/openapi/test/questions?apikey=931fe66b40ede365f1ab6e79ee1b8ba8&q=21\")\n",
    "\n",
    "questions = json.loads(questions.text)\n",
    "questions = questions['RESULT']"
   ]
  },
  {
   "cell_type": "code",
   "execution_count": null,
   "metadata": {},
   "outputs": [],
   "source": [
    "questions = pd.DataFrame(questions)\n",
    "questions"
   ]
  },
  {
   "cell_type": "code",
   "execution_count": null,
   "metadata": {},
   "outputs": [],
   "source": [
    "questions.to_json(\"questions.json\", orient=\"records\")"
   ]
  },
  {
   "cell_type": "code",
   "execution_count": null,
   "metadata": {},
   "outputs": [],
   "source": []
  }
 ],
 "metadata": {
  "kernelspec": {
   "display_name": "Python 3",
   "language": "python",
   "name": "python3"
  },
  "language_info": {
   "codemirror_mode": {
    "name": "ipython",
    "version": 3
   },
   "file_extension": ".py",
   "mimetype": "text/x-python",
   "name": "python",
   "nbconvert_exporter": "python",
   "pygments_lexer": "ipython3",
   "version": "3.12.4"
  }
 },
 "nbformat": 4,
 "nbformat_minor": 2
}
