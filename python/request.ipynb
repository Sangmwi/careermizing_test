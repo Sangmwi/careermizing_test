{
 "cells": [
  {
   "cell_type": "code",
   "execution_count": 3,
   "metadata": {},
   "outputs": [],
   "source": [
    "import requests\n",
    "import json\n",
    "import pandas"
   ]
  },
  {
   "cell_type": "code",
   "execution_count": 14,
   "metadata": {},
   "outputs": [],
   "source": [
    "url = \"http://www.career.go.kr/inspct/openapi/test/report\"\n",
    "apikey = \"931fe66b40ede365f1ab6e79ee1b8ba8\""
   ]
  },
  {
   "cell_type": "code",
   "execution_count": 24,
   "metadata": {},
   "outputs": [],
   "source": [
    "data = {\n",
    "    \"apikey\": apikey,  \n",
    "    \"qestrnSeq\": \"20\",  \n",
    "    \"trgetSe\": \"100206\",  \n",
    "    \"name\": \"홍길동\",  \n",
    "    \"gender\": \"100323\",  \n",
    "    \"school\": \"율도중학교\",  \n",
    "    \"grade\": \"2\",  \n",
    "    \"email\": \"\",  \n",
    "    \"startDtm\": 1550466291034,  \n",
    "    \"answers\": \"1=5 2=7 3=3 4=7 5=1 6=2 7=1 8=5 9=5 10=1 11=4 12=4 13=5 14=4 15=4 16=4 17=4 \" \\\n",
    "                \"18=5 19=1 20=1 21=1 22=5 23=3 24=6 25=3 26=2 27=2 28=6 29=3 30=2 31=4 32=3 33=5 34=2 \" \\\n",
    "                \"35=3 36=2 37=7 38=2 39=5 40=5 41=5 42=1 43=7 44=6 45=5 46=4 47=2 48=5 49=4 50=5 51=5 \" \\\n",
    "                \"52=5 53=7 54=2 55=6 56=4 57=6 58=4 59=3 60=5 61=5 62=5 63=7 64=4 65=7 66=5\"\n",
    "}\n"
   ]
  },
  {
   "cell_type": "code",
   "execution_count": 25,
   "metadata": {},
   "outputs": [],
   "source": [
    "response = requests.post(url, json=data)"
   ]
  },
  {
   "cell_type": "code",
   "execution_count": 26,
   "metadata": {},
   "outputs": [
    {
     "name": "stdout",
     "output_type": "stream",
     "text": [
      "{\"SUCC_YN\":\"Y\",\"ERROR_REASON\":\"\",\"RESULT\":{\"inspctSeq\":68749363,\"url\":\"https://www.career.go.kr/inspct/web/psycho/vocation/report?seq=Njg3NDkzNjM\"}}\n"
     ]
    }
   ],
   "source": [
    "print(response.text)"
   ]
  }
 ],
 "metadata": {
  "kernelspec": {
   "display_name": "Python 3",
   "language": "python",
   "name": "python3"
  },
  "language_info": {
   "codemirror_mode": {
    "name": "ipython",
    "version": 3
   },
   "file_extension": ".py",
   "mimetype": "text/x-python",
   "name": "python",
   "nbconvert_exporter": "python",
   "pygments_lexer": "ipython3",
   "version": "3.12.4"
  }
 },
 "nbformat": 4,
 "nbformat_minor": 2
}
